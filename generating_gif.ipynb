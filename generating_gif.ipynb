{
 "cells": [
  {
   "cell_type": "code",
   "execution_count": null,
   "id": "5d8875fe",
   "metadata": {},
   "outputs": [
    {
     "name": "stdout",
     "output_type": "stream",
     "text": [
      "Creating GIF for class 0, epoch 10...\n",
      "GIF saved for class 0, epoch 10: D:\\DDPM-diffusion\\GIFs\\diffusion_process_class_0_epoch_10.gif (interval 20 ms, fps 50)\n"
     ]
    },
    {
     "data": {
      "image/png": "[encoded data removed]",
      "text/plain": [
       "<Figure size 1000x1000 with 1 Axes>"
      ]
     },
     "metadata": {},
     "output_type": "display_data"
    },
    {
     "name": "stdout",
     "output_type": "stream",
     "text": [
      "GIF successfully created and saved to: D:\\DDPM-diffusion\\GIFs\n"
     ]
    }
   ],
   "source": [
    "import os\n",
    "import glob\n",
    "from PIL import Image\n",
    "import matplotlib.pyplot as plt\n",
    "import matplotlib.animation as animation\n",
    "from IPython.display import HTML\n",
    "import numpy as np\n",
    "\n",
    "results_path = fr\"D:\\DDPM-diffusion\\results\"\n",
    "gifs_dir = r\"D:\\DDPM-diffusion\\GIFs\"\n",
    "\n",
    "\"\"\"\n",
    "results have been saved to the results path. \n",
    "the file format is sampled_epoch{epoch}_batch{batch_index}_timestep{timestep_idx}_class{class_idx}.png\n",
    "\"\"\"\n",
    "\n",
    "def create_gif_for_class(class_idx, epoch, batch_index=0, play_reverse=True, interval_ms=20):\n",
    "    \"\"\"Create a GIF showing the diffusion process for a specific class and epoch.\n",
    "       play_reverse=True will play the frames in reverse order.\n",
    "       interval_ms: delay between frames in milliseconds\n",
    "    \"\"\"\n",
    "    \n",
    "    pattern = f\"sampled_epoch{epoch}_batch{batch_index}_timestep*_class{class_idx}.png\"\n",
    "    image_files = glob.glob(os.path.join(results_path, pattern))\n",
    "    \n",
    "    if not image_files:\n",
    "        print(f\"No images found for class {class_idx}, epoch {epoch}, batch {batch_index}\")\n",
    "        return None\n",
    "    \n",
    "    timestep_files = []\n",
    "    for file in image_files:\n",
    "        filename = os.path.basename(file)\n",
    "        parts = filename.split('_')\n",
    "        for part in parts:\n",
    "            if part.startswith('timestep'):\n",
    "                timestep = int(part.replace('timestep', '').replace('.png', ''))\n",
    "                timestep_files.append((timestep, file))\n",
    "                break\n",
    "    \n",
    "    timestep_files.sort(key=lambda x: x[0])\n",
    "    \n",
    "    if not timestep_files:\n",
    "        print(f\"No valid timestep files found for class {class_idx}, epoch {epoch}\")\n",
    "        return None\n",
    "    \n",
    "    images = []\n",
    "    timesteps = []\n",
    "    for timestep, file_path in timestep_files:\n",
    "        img = Image.open(file_path).convert(\"RGB\")\n",
    "        images.append(np.array(img))\n",
    "        timesteps.append(timestep)\n",
    "    \n",
    "    fig, ax = plt.subplots(figsize=(10, 10))\n",
    "    ax.axis('off')\n",
    "    \n",
    "    im = ax.imshow(images[0], animated=True)\n",
    "    title = ax.set_title(f'Class {class_idx} - Epoch {epoch} - Timestep {timesteps[0]}', fontsize=16, pad=20)\n",
    "    \n",
    "    def animate(frame_idx):\n",
    "        im.set_array(images[frame_idx])\n",
    "        title.set_text(f'Class {class_idx} - Epoch {epoch} - Timestep {timesteps[frame_idx]}')\n",
    "        return [im, title]\n",
    "    \n",
    "    fps = max(1, int(1000 / interval_ms))\n",
    "    \n",
    "    if play_reverse:\n",
    "        frames_seq = range(len(images) - 1, -1, -1)\n",
    "    else:\n",
    "        frames_seq = range(len(images))\n",
    "    \n",
    "    # Create animation\n",
    "    anim = animation.FuncAnimation(fig, animate, frames=frames_seq, \n",
    "                                   interval=interval_ms, blit=True, repeat=True)\n",
    "    os.makedirs(gifs_dir, exist_ok=True)\n",
    "    gif_path = os.path.join(gifs_dir, f'diffusion_process_class_{class_idx}_epoch_{epoch}.gif')\n",
    "    anim.save(gif_path, writer='pillow', fps=fps, dpi=100)\n",
    "    \n",
    "    print(f\"GIF saved for class {class_idx}, epoch {epoch}: {gif_path} (interval {interval_ms} ms, fps {fps})\")\n",
    "    \n",
    "    plt.tight_layout()\n",
    "    plt.show()\n",
    "    \n",
    "    return anim\n",
    "\n",
    "# Configuration parameters\n",
    "TARGET_EPOCH = 10  # Change this to desired epoch\n",
    "TARGET_CLASS = 0   # Change this to desired class (0-9)\n",
    "\n",
    "print(f\"Creating GIF for class {TARGET_CLASS}, epoch {TARGET_EPOCH}...\")\n",
    "anim = create_gif_for_class(TARGET_CLASS, TARGET_EPOCH, play_reverse=False,interval_ms=5)\n",
    "if anim:\n",
    "    print(f\"GIF successfully created and saved to: {gifs_dir}\")\n",
    "else:\n",
    "    print(f\"Failed to create GIF for class {TARGET_CLASS}, epoch {TARGET_EPOCH}\")"
   ]
  },
  {
   "cell_type": "code",
   "execution_count": null,
   "id": "300c8569",
   "metadata": {},
   "outputs": [],
   "source": []
  }
 ],
 "metadata": {
  "kernelspec": {
   "display_name": "cudaenv",
   "language": "python",
   "name": "python3"
  },
  "language_info": {
   "codemirror_mode": {
    "name": "ipython",
    "version": 3
   },
   "file_extension": ".py",
   "mimetype": "text/x-python",
   "name": "python",
   "nbconvert_exporter": "python",
   "pygments_lexer": "ipython3",
   "version": "3.13.1"
  }
 },
 "nbformat": 4,
 "nbformat_minor": 5
}
