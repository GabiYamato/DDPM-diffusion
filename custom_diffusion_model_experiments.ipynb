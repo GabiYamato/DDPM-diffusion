{
 "cells": [
  {
   "cell_type": "markdown",
   "id": "ada12ba6",
   "metadata": {},
   "source": [
    "### this is the notebook where im making the model, testing out input shapes, plotting stuff. \n",
    "## the training python file does the training, but ill have the code here too\n"
   ]
  },
  {
   "cell_type": "code",
   "execution_count": 1,
   "id": "9028aac3",
   "metadata": {},
   "outputs": [
    {
     "name": "stderr",
     "output_type": "stream",
     "text": [
      "100%|██████████| 9.91M/9.91M [00:04<00:00, 2.35MB/s]\n",
      "100%|██████████| 28.9k/28.9k [00:00<00:00, 134kB/s]\n",
      "100%|██████████| 1.65M/1.65M [00:02<00:00, 748kB/s] \n",
      "100%|██████████| 4.54k/4.54k [00:00<00:00, 20.6MB/s]"
     ]
    },
    {
     "name": "stdout",
     "output_type": "stream",
     "text": [
      "Training samples: 60000\n",
      "Test samples: 10000\n"
     ]
    },
    {
     "name": "stderr",
     "output_type": "stream",
     "text": [
      "\n"
     ]
    }
   ],
   "source": [
    "import torch\n",
    "import torchvision\n",
    "import os\n",
    "import numpy as np\n",
    "\n",
    "import torch.nn as nn\n",
    "import torch.optim as optim\n",
    "import torchvision.transforms as transforms\n",
    "import matplotlib.pyplot as plt\n",
    "\n",
    "# Download MNIST dataset\n",
    "transform = transforms.Compose([transforms.ToTensor(), transforms.Normalize((0.5,), (0.5,))])\n",
    "\n",
    "train_dataset = torchvision.datasets.MNIST(root='./data', train=True, download=True, transform=transform)\n",
    "test_dataset = torchvision.datasets.MNIST(root='./data', train=False, download=True, transform=transform)\n",
    "\n",
    "train_loader = torch.utils.data.DataLoader(train_dataset, batch_size=64, shuffle=True)\n",
    "test_loader = torch.utils.data.DataLoader(test_dataset, batch_size=64, shuffle=False)\n",
    "\n",
    "print(f\"Training samples: {len(train_dataset)}\")\n",
    "print(f\"Test samples: {len(test_dataset)}\")"
   ]
  },
  {
   "cell_type": "code",
   "execution_count": 14,
   "id": "2bf0c72e",
   "metadata": {},
   "outputs": [
    {
     "data": {
      "image/png": "[encoded data removed]",
      "text/plain": [
       "<Figure size 640x480 with 1 Axes>"
      ]
     },
     "metadata": {},
     "output_type": "display_data"
    }
   ],
   "source": [
    "plt.imshow(train_dataset[0][0][0],cmap=\"binary\")\n",
    "plt.show()"
   ]
  },
  {
   "cell_type": "code",
   "execution_count": null,
   "id": "7912cab7",
   "metadata": {},
   "outputs": [],
   "source": [
    "def space_to_depth(x, size=2):\n",
    "    \"\"\"\n",
    "    Downsacle method that use the depth dimension to\n",
    "    downscale the spatial dimensions\n",
    "    Args:\n",
    "        x (torch.Tensor): a tensor to downscale\n",
    "        size (float): the scaling factor\n",
    "\n",
    "    Returns:\n",
    "        (torch.Tensor): new spatial downscale tensor\n",
    "    \"\"\"\n",
    "    \n",
    "    b,c,h,w = x.shape()\n",
    "    \n",
    "    out_h = h\n",
    "    out_w = w\n",
    "    out_c = c * (size*size)\n",
    "    \n",
    "    x = x.reshape((-1,c,out_h,size,out_w,size))\n",
    "    x = x.permute((0,1,3,5,2,4))\n",
    "    x = x.reshape((-1,out_c,out_h,out_w))\n",
    "    \n",
    "    return x\n",
    "\n",
    "\n",
    "class SpaceToDepth(nn.Module):\n",
    "    \n",
    "    def __init__(self,size, *args, **kwargs):\n",
    "        super().__init__(*args, **kwargs)\n",
    "        self.size = size\n",
    "        \n",
    "    def forward(self,x):\n",
    "        return space_to_depth(x,self.size)\n",
    "    \n",
    "class Residual(nn.Module):\n",
    "    \"\"\"\n",
    "    Apply residual connection using an input function\n",
    "    Args:\n",
    "    func (function): a function to apply over the input\n",
    "    \"\"\"\n",
    "    def __init__(self,func, *args, **kwargs):\n",
    "        super().__init__(*args, **kwargs)\n",
    "        self.func = func\n",
    "        \n",
    "    def forward(self,x,*args,**kwargs):\n",
    "        return x.self.func(x,*args,**kwargs)\n",
    "    \n",
    "def upsample(in_channels,out_channels=None):\n",
    "    out_channels = in_channels if out_channels is None else out_channels\n",
    "    seq = nn.Sequential(\n",
    "        nn.Upsample(scale_factor=2,mode=\"nearest\"),\n",
    "        nn.conv2d(in_channels,out_channels,3,padding=1)\n",
    "    )\n",
    "    return seq\n",
    "\n",
    "def downsample(in_channels,out_channels=None):\n",
    "    out_channels = in_channels if out_channels is None else out_channels\n",
    "    seq = nn.Sequential(\n",
    "        SpaceToDepth(2),\n",
    "        nn.Conv2d(4*in_channels, out_channels,1)\n",
    "    )\n",
    "    return seq\n",
    "    "
   ]
  }
 ],
 "metadata": {
  "kernelspec": {
   "display_name": "cudaenv",
   "language": "python",
   "name": "python3"
  },
  "language_info": {
   "codemirror_mode": {
    "name": "ipython",
    "version": 3
   },
   "file_extension": ".py",
   "mimetype": "text/x-python",
   "name": "python",
   "nbconvert_exporter": "python",
   "pygments_lexer": "ipython3",
   "version": "3.13.1"
  }
 },
 "nbformat": 4,
 "nbformat_minor": 5
}
